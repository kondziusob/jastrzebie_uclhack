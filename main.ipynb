{
  "nbformat": 4,
  "nbformat_minor": 0,
  "metadata": {
    "colab": {
      "name": "main.ipynb",
      "provenance": [],
      "collapsed_sections": [],
      "toc_visible": true
    },
    "kernelspec": {
      "name": "python3",
      "display_name": "Python 3"
    },
    "language_info": {
      "name": "python"
    }
  },
  "cells": [
    {
      "cell_type": "markdown",
      "source": [
        "# UCLQ Quantum Energy Hackathon - JASTR"
      ],
      "metadata": {
        "id": "qqeff1WxZJf-"
      }
    },
    {
      "cell_type": "markdown",
      "source": [
        "\n",
        "\n",
        "1.   Install Qiskit\n",
        "\n"
      ],
      "metadata": {
        "id": "TSOhS95tYbEs"
      }
    },
    {
      "cell_type": "code",
      "execution_count": null,
      "metadata": {
        "colab": {
          "base_uri": "https://localhost:8080/",
          "height": 1000
        },
        "id": "xHrM97OhXTr4",
        "outputId": "5d45fcd0-130b-4ced-b6f3-de8075676f4c"
      },
      "outputs": [
        {
          "output_type": "stream",
          "name": "stdout",
          "text": [
            "Requirement already satisfied: qiskit in /usr/local/lib/python3.7/dist-packages (0.34.2)\n",
            "Requirement already satisfied: qiskit-ignis==0.7.0 in /usr/local/lib/python3.7/dist-packages (from qiskit) (0.7.0)\n",
            "Requirement already satisfied: qiskit-ibmq-provider==0.18.3 in /usr/local/lib/python3.7/dist-packages (from qiskit) (0.18.3)\n",
            "Requirement already satisfied: qiskit-aer==0.10.3 in /usr/local/lib/python3.7/dist-packages (from qiskit) (0.10.3)\n",
            "Requirement already satisfied: qiskit-terra==0.19.2 in /usr/local/lib/python3.7/dist-packages (from qiskit) (0.19.2)\n",
            "Requirement already satisfied: scipy>=1.0 in /usr/local/lib/python3.7/dist-packages (from qiskit-aer==0.10.3->qiskit) (1.7.3)\n",
            "Requirement already satisfied: numpy>=1.16.3 in /usr/local/lib/python3.7/dist-packages (from qiskit-aer==0.10.3->qiskit) (1.21.5)\n",
            "Requirement already satisfied: websocket-client>=1.0.1 in /usr/local/lib/python3.7/dist-packages (from qiskit-ibmq-provider==0.18.3->qiskit) (1.3.1)\n",
            "Requirement already satisfied: python-dateutil>=2.8.0 in /usr/local/lib/python3.7/dist-packages (from qiskit-ibmq-provider==0.18.3->qiskit) (2.8.2)\n",
            "Requirement already satisfied: requests-ntlm>=1.1.0 in /usr/local/lib/python3.7/dist-packages (from qiskit-ibmq-provider==0.18.3->qiskit) (1.1.0)\n",
            "Requirement already satisfied: urllib3>=1.21.1 in /usr/local/lib/python3.7/dist-packages (from qiskit-ibmq-provider==0.18.3->qiskit) (1.24.3)\n",
            "Requirement already satisfied: requests>=2.19 in /usr/local/lib/python3.7/dist-packages (from qiskit-ibmq-provider==0.18.3->qiskit) (2.23.0)\n",
            "Requirement already satisfied: retworkx>=0.8.0 in /usr/local/lib/python3.7/dist-packages (from qiskit-ignis==0.7.0->qiskit) (0.11.0)\n",
            "Requirement already satisfied: setuptools>=40.1.0 in /usr/local/lib/python3.7/dist-packages (from qiskit-ignis==0.7.0->qiskit) (57.4.0)\n",
            "Requirement already satisfied: ply>=3.10 in /usr/local/lib/python3.7/dist-packages (from qiskit-terra==0.19.2->qiskit) (3.11)\n",
            "Requirement already satisfied: tweedledum<2.0,>=1.1 in /usr/local/lib/python3.7/dist-packages (from qiskit-terra==0.19.2->qiskit) (1.1.1)\n",
            "Requirement already satisfied: dill>=0.3 in /usr/local/lib/python3.7/dist-packages (from qiskit-terra==0.19.2->qiskit) (0.3.4)\n",
            "Requirement already satisfied: python-constraint>=1.4 in /usr/local/lib/python3.7/dist-packages (from qiskit-terra==0.19.2->qiskit) (1.4.0)\n",
            "Requirement already satisfied: psutil>=5 in /usr/local/lib/python3.7/dist-packages (from qiskit-terra==0.19.2->qiskit) (5.4.8)\n",
            "Requirement already satisfied: sympy>=1.3 in /usr/local/lib/python3.7/dist-packages (from qiskit-terra==0.19.2->qiskit) (1.7.1)\n",
            "Requirement already satisfied: stevedore>=3.0.0 in /usr/local/lib/python3.7/dist-packages (from qiskit-terra==0.19.2->qiskit) (3.5.0)\n",
            "Requirement already satisfied: symengine>=0.8 in /usr/local/lib/python3.7/dist-packages (from qiskit-terra==0.19.2->qiskit) (0.9.0)\n",
            "Requirement already satisfied: six>=1.5 in /usr/local/lib/python3.7/dist-packages (from python-dateutil>=2.8.0->qiskit-ibmq-provider==0.18.3->qiskit) (1.15.0)\n",
            "Requirement already satisfied: certifi>=2017.4.17 in /usr/local/lib/python3.7/dist-packages (from requests>=2.19->qiskit-ibmq-provider==0.18.3->qiskit) (2021.10.8)\n",
            "Requirement already satisfied: chardet<4,>=3.0.2 in /usr/local/lib/python3.7/dist-packages (from requests>=2.19->qiskit-ibmq-provider==0.18.3->qiskit) (3.0.4)\n",
            "Requirement already satisfied: idna<3,>=2.5 in /usr/local/lib/python3.7/dist-packages (from requests>=2.19->qiskit-ibmq-provider==0.18.3->qiskit) (2.10)\n",
            "Requirement already satisfied: ntlm-auth>=1.0.2 in /usr/local/lib/python3.7/dist-packages (from requests-ntlm>=1.1.0->qiskit-ibmq-provider==0.18.3->qiskit) (1.5.0)\n",
            "Requirement already satisfied: cryptography>=1.3 in /usr/local/lib/python3.7/dist-packages (from requests-ntlm>=1.1.0->qiskit-ibmq-provider==0.18.3->qiskit) (36.0.1)\n",
            "Requirement already satisfied: cffi>=1.12 in /usr/local/lib/python3.7/dist-packages (from cryptography>=1.3->requests-ntlm>=1.1.0->qiskit-ibmq-provider==0.18.3->qiskit) (1.15.0)\n",
            "Requirement already satisfied: pycparser in /usr/local/lib/python3.7/dist-packages (from cffi>=1.12->cryptography>=1.3->requests-ntlm>=1.1.0->qiskit-ibmq-provider==0.18.3->qiskit) (2.21)\n",
            "Requirement already satisfied: pbr!=2.1.0,>=2.0.0 in /usr/local/lib/python3.7/dist-packages (from stevedore>=3.0.0->qiskit-terra==0.19.2->qiskit) (5.8.1)\n",
            "Requirement already satisfied: importlib-metadata>=1.7.0 in /usr/local/lib/python3.7/dist-packages (from stevedore>=3.0.0->qiskit-terra==0.19.2->qiskit) (4.11.1)\n",
            "Requirement already satisfied: zipp>=0.5 in /usr/local/lib/python3.7/dist-packages (from importlib-metadata>=1.7.0->stevedore>=3.0.0->qiskit-terra==0.19.2->qiskit) (3.7.0)\n",
            "Requirement already satisfied: typing-extensions>=3.6.4 in /usr/local/lib/python3.7/dist-packages (from importlib-metadata>=1.7.0->stevedore>=3.0.0->qiskit-terra==0.19.2->qiskit) (3.10.0.2)\n",
            "Requirement already satisfied: mpmath>=0.19 in /usr/local/lib/python3.7/dist-packages (from sympy>=1.3->qiskit-terra==0.19.2->qiskit) (1.2.1)\n",
            "Collecting qiskit-optimization\n",
            "  Downloading qiskit_optimization-0.3.1-py3-none-any.whl (154 kB)\n",
            "\u001b[K     |████████████████████████████████| 154 kB 4.2 MB/s \n",
            "\u001b[?25hRequirement already satisfied: scipy>=1.4 in /usr/local/lib/python3.7/dist-packages (from qiskit-optimization) (1.7.3)\n",
            "Requirement already satisfied: qiskit-terra>=0.19.1 in /usr/local/lib/python3.7/dist-packages (from qiskit-optimization) (0.19.2)\n",
            "Requirement already satisfied: numpy>=1.17 in /usr/local/lib/python3.7/dist-packages (from qiskit-optimization) (1.21.5)\n",
            "Collecting networkx<2.6,>=2.2\n",
            "  Downloading networkx-2.5.1-py3-none-any.whl (1.6 MB)\n",
            "\u001b[K     |████████████████████████████████| 1.6 MB 50.6 MB/s \n",
            "\u001b[?25hCollecting docplex>=2.21.207\n",
            "  Downloading docplex-2.22.213.tar.gz (634 kB)\n",
            "\u001b[K     |████████████████████████████████| 634 kB 15.9 MB/s \n",
            "\u001b[?25hRequirement already satisfied: setuptools>=40.1.0 in /usr/local/lib/python3.7/dist-packages (from qiskit-optimization) (57.4.0)\n",
            "Requirement already satisfied: six in /usr/local/lib/python3.7/dist-packages (from docplex>=2.21.207->qiskit-optimization) (1.15.0)\n",
            "Requirement already satisfied: decorator<5,>=4.3 in /usr/local/lib/python3.7/dist-packages (from networkx<2.6,>=2.2->qiskit-optimization) (4.4.2)\n",
            "Requirement already satisfied: stevedore>=3.0.0 in /usr/local/lib/python3.7/dist-packages (from qiskit-terra>=0.19.1->qiskit-optimization) (3.5.0)\n",
            "Requirement already satisfied: python-constraint>=1.4 in /usr/local/lib/python3.7/dist-packages (from qiskit-terra>=0.19.1->qiskit-optimization) (1.4.0)\n",
            "Requirement already satisfied: dill>=0.3 in /usr/local/lib/python3.7/dist-packages (from qiskit-terra>=0.19.1->qiskit-optimization) (0.3.4)\n",
            "Requirement already satisfied: psutil>=5 in /usr/local/lib/python3.7/dist-packages (from qiskit-terra>=0.19.1->qiskit-optimization) (5.4.8)\n",
            "Requirement already satisfied: tweedledum<2.0,>=1.1 in /usr/local/lib/python3.7/dist-packages (from qiskit-terra>=0.19.1->qiskit-optimization) (1.1.1)\n",
            "Requirement already satisfied: ply>=3.10 in /usr/local/lib/python3.7/dist-packages (from qiskit-terra>=0.19.1->qiskit-optimization) (3.11)\n",
            "Requirement already satisfied: symengine>=0.8 in /usr/local/lib/python3.7/dist-packages (from qiskit-terra>=0.19.1->qiskit-optimization) (0.9.0)\n",
            "Requirement already satisfied: retworkx>=0.10.1 in /usr/local/lib/python3.7/dist-packages (from qiskit-terra>=0.19.1->qiskit-optimization) (0.11.0)\n",
            "Requirement already satisfied: sympy>=1.3 in /usr/local/lib/python3.7/dist-packages (from qiskit-terra>=0.19.1->qiskit-optimization) (1.7.1)\n",
            "Requirement already satisfied: python-dateutil>=2.8.0 in /usr/local/lib/python3.7/dist-packages (from qiskit-terra>=0.19.1->qiskit-optimization) (2.8.2)\n",
            "Requirement already satisfied: importlib-metadata>=1.7.0 in /usr/local/lib/python3.7/dist-packages (from stevedore>=3.0.0->qiskit-terra>=0.19.1->qiskit-optimization) (4.11.1)\n",
            "Requirement already satisfied: pbr!=2.1.0,>=2.0.0 in /usr/local/lib/python3.7/dist-packages (from stevedore>=3.0.0->qiskit-terra>=0.19.1->qiskit-optimization) (5.8.1)\n",
            "Requirement already satisfied: zipp>=0.5 in /usr/local/lib/python3.7/dist-packages (from importlib-metadata>=1.7.0->stevedore>=3.0.0->qiskit-terra>=0.19.1->qiskit-optimization) (3.7.0)\n",
            "Requirement already satisfied: typing-extensions>=3.6.4 in /usr/local/lib/python3.7/dist-packages (from importlib-metadata>=1.7.0->stevedore>=3.0.0->qiskit-terra>=0.19.1->qiskit-optimization) (3.10.0.2)\n",
            "Requirement already satisfied: mpmath>=0.19 in /usr/local/lib/python3.7/dist-packages (from sympy>=1.3->qiskit-terra>=0.19.1->qiskit-optimization) (1.2.1)\n",
            "Building wheels for collected packages: docplex\n",
            "  Building wheel for docplex (setup.py) ... \u001b[?25l\u001b[?25hdone\n",
            "  Created wheel for docplex: filename=docplex-2.22.213-py3-none-any.whl size=696882 sha256=a29a3b7d5bddc6645f8d21454df46d2fe928cdbcf23271096e0d2ff73f7e0de2\n",
            "  Stored in directory: /root/.cache/pip/wheels/90/69/6b/1375c68a5b7ff94c40263b151c86f58bd72200bf0c465b5ba3\n",
            "Successfully built docplex\n",
            "Installing collected packages: networkx, docplex, qiskit-optimization\n",
            "  Attempting uninstall: networkx\n",
            "    Found existing installation: networkx 2.6.3\n",
            "    Uninstalling networkx-2.6.3:\n",
            "      Successfully uninstalled networkx-2.6.3\n",
            "\u001b[31mERROR: pip's dependency resolver does not currently take into account all the packages that are installed. This behaviour is the source of the following dependency conflicts.\n",
            "albumentations 0.1.12 requires imgaug<0.2.7,>=0.2.5, but you have imgaug 0.2.9 which is incompatible.\u001b[0m\n",
            "Successfully installed docplex-2.22.213 networkx-2.5.1 qiskit-optimization-0.3.1\n"
          ]
        },
        {
          "output_type": "display_data",
          "data": {
            "application/vnd.colab-display-data+json": {
              "pip_warning": {
                "packages": [
                  "networkx"
                ]
              }
            }
          },
          "metadata": {}
        }
      ],
      "source": [
        "!pip install qiskit\n",
        "!pip install qiskit-optimization"
      ]
    },
    {
      "cell_type": "code",
      "source": [
        "%matplotlib inline\n",
        "import networkx as nx\n",
        "import numpy as np\n",
        "import matplotlib.pyplot as plt\n",
        "from qiskit import QuantumCircuit, ClassicalRegister, QuantumRegister\n",
        "from qiskit import Aer, execute\n",
        "from qiskit.circuit import Parameter\n",
        "from qiskit.visualization import plot_histogram\n",
        "from scipy.optimize import minimize\n"
      ],
      "metadata": {
        "id": "FlsbqO2EYqOK"
      },
      "execution_count": null,
      "outputs": []
    },
    {
      "cell_type": "markdown",
      "source": [
        "# New Section"
      ],
      "metadata": {
        "id": "vcAcYNpGZUdF"
      }
    },
    {
      "cell_type": "code",
      "source": [
        "from qiskit import BasicAer\n",
        "from qiskit.utils import algorithm_globals, QuantumInstance\n",
        "from qiskit.algorithms import QAOA, NumPyMinimumEigensolver\n",
        "from qiskit_optimization.algorithms import (\n",
        "    MinimumEigenOptimizer,\n",
        "    RecursiveMinimumEigenOptimizer,\n",
        "    SolutionSample,\n",
        "    OptimizationResultStatus,\n",
        ")\n",
        "from qiskit_optimization import QuadraticProgram\n",
        "from qiskit.visualization import plot_histogram\n",
        "from typing import List, Tuple\n",
        "import numpy as np"
      ],
      "metadata": {
        "id": "APGZLsITZV0c"
      },
      "execution_count": null,
      "outputs": []
    },
    {
      "cell_type": "code",
      "source": [
        "# create a QUBO\n",
        "qubo = QuadraticProgram()\n",
        "qubo.binary_var(\"x\")\n",
        "qubo.binary_var(\"y\")\n",
        "qubo.binary_var(\"z\")\n",
        "qubo.minimize(linear=[1, -2, 3], quadratic={(\"x\", \"y\"): 1, (\"x\", \"z\"): -1, (\"y\", \"z\"): 2})\n",
        "print(qubo.export_as_lp_string())"
      ],
      "metadata": {
        "colab": {
          "base_uri": "https://localhost:8080/"
        },
        "id": "kuk2g6vKZWp5",
        "outputId": "38702812-1e0d-486f-a61d-349c32fdd71e"
      },
      "execution_count": null,
      "outputs": [
        {
          "output_type": "stream",
          "name": "stdout",
          "text": [
            "\\ This file has been generated by DOcplex\n",
            "\\ ENCODING=ISO-8859-1\n",
            "\\Problem name: CPLEX\n",
            "\n",
            "Minimize\n",
            " obj: x - 2 y + 3 z + [ 2 x*y - 2 x*z + 4 y*z ]/2\n",
            "Subject To\n",
            "\n",
            "Bounds\n",
            " 0 <= x <= 1\n",
            " 0 <= y <= 1\n",
            " 0 <= z <= 1\n",
            "\n",
            "Binaries\n",
            " x y z\n",
            "End\n",
            "\n"
          ]
        }
      ]
    },
    {
      "cell_type": "code",
      "source": [
        "op, offset = qubo.to_ising()\n",
        "print(\"offset: {}\".format(offset))\n",
        "print(\"operator:\")\n",
        "print(op)"
      ],
      "metadata": {
        "colab": {
          "base_uri": "https://localhost:8080/"
        },
        "id": "2YVEiWCwZ2jy",
        "outputId": "b10ae5bc-e017-4c7e-e6bd-dbad431a5856"
      },
      "execution_count": null,
      "outputs": [
        {
          "output_type": "stream",
          "name": "stdout",
          "text": [
            "offset: 1.5\n",
            "operator:\n",
            "-1.75 * ZII\n",
            "+ 0.25 * IZI\n",
            "+ 0.5 * ZZI\n",
            "- 0.5 * IIZ\n",
            "- 0.25 * ZIZ\n",
            "+ 0.25 * IZZ\n"
          ]
        }
      ]
    },
    {
      "cell_type": "code",
      "source": [
        "qp = QuadraticProgram()\n",
        "qp.from_ising(op, offset, linear=True)\n",
        "print(qp.export_as_lp_string())"
      ],
      "metadata": {
        "colab": {
          "base_uri": "https://localhost:8080/"
        },
        "id": "TU50-tzpZ52A",
        "outputId": "7e1d4bef-c685-47fd-e800-1181a97b7f88"
      },
      "execution_count": null,
      "outputs": [
        {
          "output_type": "stream",
          "name": "stdout",
          "text": [
            "\\ This file has been generated by DOcplex\n",
            "\\ ENCODING=ISO-8859-1\n",
            "\\Problem name: CPLEX\n",
            "\n",
            "Minimize\n",
            " obj: x0 - 2 x1 + 3 x2 + [ 2 x0*x1 - 2 x0*x2 + 4 x1*x2 ]/2\n",
            "Subject To\n",
            "\n",
            "Bounds\n",
            " 0 <= x0 <= 1\n",
            " 0 <= x1 <= 1\n",
            " 0 <= x2 <= 1\n",
            "\n",
            "Binaries\n",
            " x0 x1 x2\n",
            "End\n",
            "\n"
          ]
        }
      ]
    },
    {
      "cell_type": "code",
      "source": [
        "# Renewable sources: solar, on-shore and off-shore wind turbines\n",
        "number_of_renewable_sources = 3\n",
        "# Locations: England, Northern Ireland, Scotland, Wales\n",
        "number_of_locations = 4\n",
        "\n",
        "# Calculate the number of qubits needed, \n",
        "# NOTE: IBMQ systems accesible have 5 qubits\n",
        "nqubits = number_of_locations * number_of_renewable_sources\n",
        "\n",
        "G = nx.complete_graph(nqubits)\n",
        "\n",
        "total_cost = C = 61510030000.0 # units: £\n",
        "\n",
        "# Calculate revenue for each energy source in all locations \n",
        "# dict{location: [energy_source]}\n",
        "location_revenue_per_unit = {\n",
        "    0: [2783.55, 336113.74, 153105454.50],\n",
        "    1: [2332.31, 434451.22, 0.0],\n",
        "    2: [1088.38, 1020438.50, 85798571.43],\n",
        "    3: [3573.59, 768855.93, 140790000],\n",
        "}\n",
        "\n",
        "# Calculate cost for each energy source in all locations\n",
        "# dict{location: [energy_source]}\n",
        "location_cost_per_unit = {\n",
        "    0: [300.92, 52370.72, 22696783.84],\n",
        "    1: [273.66, 70226.14, 0.0],\n",
        "    2: [116.17, 161395.70, 11626961.90],\n",
        "    3: [382.92, 122708.47, 21872844.44],\n",
        "}\n",
        "\n",
        "# variable and a rough estimate, see spreadsheet for current figures.\n",
        "# dict{location: [energy_source]}\n",
        "location_unit_capacity = {\n",
        "    0: [800000, 5000, 40],\n",
        "    1: [30000, 1400, 0],\n",
        "    2: [70000, 4000, 10],\n",
        "    3: [60000, 1000, 5],\n",
        "}\n",
        "\n",
        "# lambda and gamma, the initial parameter guess for the cost function\n",
        "lam, gam = -10.0, 0.1\n",
        "\n",
        "# Calculate the total costs and revenues \n",
        "a_revs, b_costs = {}, {}\n",
        "\n",
        "for N in range(number_of_locations):\n",
        "    for R, source in enumerate([\"s\", \"n\", \"f\"]):\n",
        "        num_units = location_unit_capacity[N][R]\n",
        "        a_revs[f\"l{N}_{source}\"]=num_units * location_revenue_per_unit[N][R]\n",
        "        b_costs[f\"l{N}_{source}\"]=num_units * location_cost_per_unit[N][R]"
      ],
      "metadata": {
        "id": "ms6U0x2sZ9i-"
      },
      "execution_count": null,
      "outputs": []
    },
    {
      "cell_type": "code",
      "source": [
        ""
      ],
      "metadata": {
        "id": "PkUucFDTbxBA"
      },
      "execution_count": null,
      "outputs": []
    },
    {
      "cell_type": "code",
      "source": [
        "constant = lam * C**2\n",
        "linear = []\n",
        "quadratic = {}\n",
        "lam=0.1\n",
        "gam =0.1\n",
        "# create a QUBO\n",
        "qubo = QuadraticProgram()\n",
        "for k, a in a_revs.items():\n",
        "  qubo.binary_var(k)\n",
        "  for ki, b in b_costs.items():\n",
        "    # add linear terms\n",
        "    if k == ki:\n",
        "      linear.append(lam*a**2 + gam* b - 2*lam*C*a)\n",
        "      continue\n",
        "    if (ki, k) in quadratic.keys():\n",
        "      continue\n",
        "    if lam*a*b+0.0 == 0.0:\n",
        "      continue\n",
        "    # add quadratic terms\n",
        "    quadratic[(k, ki)]=2*lam*a*b\n",
        "\n",
        "qubo.minimize(linear=linear, quadratic=quadratic)\n",
        "print(qubo.export_as_lp_string())\n"
      ],
      "metadata": {
        "colab": {
          "base_uri": "https://localhost:8080/"
        },
        "id": "reeKHBgKcIx3",
        "outputId": "a53b479f-63f1-44ff-e443-d883f6ce0a19"
      },
      "execution_count": null,
      "outputs": [
        {
          "output_type": "stream",
          "name": "stdout",
          "text": [
            "\\ This file has been generated by DOcplex\n",
            "\\ ENCODING=ISO-8859-1\n",
            "\\Problem name: CPLEX\n",
            "\n",
            "Minimize\n",
            " obj: - 26898717402455924736 l0_s - 20391935115244048384 l0_n\n",
            "      - 71589563963954044928 l0_f - 860273178120730112 l1_s\n",
            "      - 7445475540134757376 l1_n - 936667570516830976 l2_s\n",
            "      - 48547690626807840768 l2_n - 10481331456626970624 l2_f\n",
            "      - 2633142140914386432 l3_s - 9399356319873693696 l3_n\n",
            "      - 8610442563439063040 l3_f + [ 233242428249600000 l0_s*l0_n\n",
            "      + 808673698020249600 l0_s*l0_f + 7312764412800001 l0_s*l1_s\n",
            "      + 87574131454656000 l0_s*l1_n + 7243376078400000 l0_s*l2_s\n",
            "      + 575043840940800000 l0_s*l2_n + 103565535349584000 l0_s*l2_f\n",
            "      + 20464837747200000 l0_s*l3_s + 109300851733920000 l0_s*l3_n\n",
            "      + 97414649825539200 l0_s*l3_f + 610296072194716928 l0_n*l0_f\n",
            "      + 5518853165304001 l0_n*l1_s + 66091117571258080 l0_n*l1_n\n",
            "      + 5466486644612000 l0_n*l2_s + 433978498775344000 l0_n*l2_n\n",
            "      + 78159632980930112 l0_n*l2_f + 15444560798496000 l0_n*l3_s\n",
            "      + 82488005562755600 l0_n*l3_n + 73517635491666064 l0_n*l3_f\n",
            "      + 20111442565665604 l0_f*l1_s + 240844913847566112 l0_f*l1_n\n",
            "      + 19920611927176800 l0_f*l2_s + 1581475968182121472 l0_f*l2_n\n",
            "      + 284824205784589376 l0_f*l2_f + 56282055011654400 l0_f*l3_s\n",
            "      + 300597377125593856 l0_f*l3_n + 267908143135519840 l0_f*l3_f\n",
            "      + 2751657360201120 l1_s*l1_n + 227593340268000 l1_s*l2_s\n",
            "      + 18068390643216000 l1_s*l2_n + 3254121541078680 l1_s*l2_f\n",
            "      + 643023464544000 l1_s*l3_s + 3434330299988400 l1_s*l3_n\n",
            "      + 3060855228951384 l1_s*l3_f + 1978431770514080.250000000000 l1_n*l2_s\n",
            "      + 157065571639768960 l1_n*l2_n + 28287547581151704 l1_n*l2_f\n",
            "      + 5589698055056640 l1_n*l3_s + 29854072917666708 l1_n*l3_n\n",
            "      + 26607515065119008 l1_n*l3_f + 19673903420192004 l2_s*l2_n\n",
            "      + 3543274781962161 l2_s*l2_f + 700160948928000.125000000000 l2_s*l3_s\n",
            "      + 3739496448200801 l2_s*l3_n + 3332835300425009 l2_s*l3_f\n",
            "      + 189833592972690400 l2_n*l2_f + 37511645800320000 l2_n*l3_s\n",
            "      + 200346315302552000 l2_n*l3_n + 178559140568695520 l2_n*l3_f\n",
            "      + 7884957353274145 l2_f*l3_s + 42112845713444048 l2_f*l3_n\n",
            "      + 37533176121252368 l2_f*l3_f + 10524234271375200 l3_s*l3_n\n",
            "      + 9379749379480752 l3_s*l3_f + 33634132307323060 l3_n*l3_f ]/2\n",
            "Subject To\n",
            "\n",
            "Bounds\n",
            " 0 <= l0_s <= 1\n",
            " 0 <= l0_n <= 1\n",
            " 0 <= l0_f <= 1\n",
            " 0 <= l1_s <= 1\n",
            " 0 <= l1_n <= 1\n",
            " 0 <= l1_f <= 1\n",
            " 0 <= l2_s <= 1\n",
            " 0 <= l2_n <= 1\n",
            " 0 <= l2_f <= 1\n",
            " 0 <= l3_s <= 1\n",
            " 0 <= l3_n <= 1\n",
            " 0 <= l3_f <= 1\n",
            "\n",
            "Binaries\n",
            " l0_s l0_n l0_f l1_s l1_n l1_f l2_s l2_n l2_f l3_s l3_n l3_f\n",
            "End\n",
            "\n"
          ]
        }
      ]
    },
    {
      "cell_type": "code",
      "source": [
        "op, offset = qubo.to_ising()\n",
        "print(\"offset: {}\".format(offset))\n",
        "print(\"operator:\")\n",
        "print(op)"
      ],
      "metadata": {
        "colab": {
          "base_uri": "https://localhost:8080/"
        },
        "id": "e8ZxCED-eIaD",
        "outputId": "3ed8163c-ec9b-49b8-9760-85710de21d84"
      },
      "execution_count": null,
      "outputs": [
        {
          "output_type": "stream",
          "name": "stdout",
          "text": [
            "offset: -1.0299081119352223e+20\n",
            "operator:\n",
            "4.2138528026665344e+18 * ZIIIIIIIIIII\n",
            "+ 4.5976742022264934e+18 * IZIIIIIIIIII\n",
            "+ 4204266538415382.5 * ZZIIIIIIIIII\n",
            "+ 1.2960179551034017e+18 * IIZIIIIIIIII\n",
            "+ 1172468672435094.0 * ZIZIIIIIIIII\n",
            "+ 1315529283921900.0 * IZZIIIIIIIII\n",
            "+ 5.143290867040992e+18 * IIIZIIIIIIII\n",
            "+ 4691647015156546.0 * ZIIZIIIIIIII\n",
            "+ 5264105714180506.0 * IZIZIIIIIIII\n",
            "+ 985619669159268.1 * IIZZIIIIIIII\n",
            "+ 2.3849900704873206e+19 * IIIIZIIIIIII\n",
            "+ 2.231989257108694e+16 * ZIIIZIIIIIII\n",
            "+ 2.5043289412819e+16 * IZIIZIIIIIII\n",
            "+ 4688955725040000.0 * IIZIZIIIIIII\n",
            "+ 2.37291991215863e+16 * IIIZZIIIIIII\n",
            "+ 4.601055139258306e+17 * IIIIIZIIIIII\n",
            "+ 416604412553126.1 * ZIIIIZIIIIII\n",
            "+ 467437056025100.1 * IZIIIZIIIIII\n",
            "+ 87520118616000.02 * IIZIIZIIIIII\n",
            "+ 442909347745270.1 * IIIZIZIIIIII\n",
            "+ 2459237927524000.5 * IIIIZZIIIIII\n",
            "+ 3.641907187909509e+18 * IIIIIIIZIIII\n",
            "+ 3325939383139876.0 * ZIIIIIIZIIII\n",
            "+ 3731759114708338.5 * IZIIIIIZIIII\n",
            "+ 698712256882080.0 * IIZIIIIZIIII\n",
            "+ 3535943447643963.0 * IIIZIIIZIIII\n",
            "+ 1.963319645497112e+16 * IIIIZIIZIIII\n",
            "+ 247303971314260.03 * IIIIIZIZIIII\n",
            "+ 4.2208871005761286e+17 * IIIIIIIIZIII\n",
            "+ 382606903618923.0 * ZIIIIIIIZIII\n",
            "+ 429291287498550.0 * IZIIIIIIZIII\n",
            "+ 80377933068000.0 * IIZIIIIIZIII\n",
            "+ 406765192634835.0 * IIIZIIIIZIII\n",
            "+ 2258548830402000.0 * IIIIZIIIZIII\n",
            "+ 28449167533500.0 * IIIIIZIIZIII\n",
            "+ 343957170025140.0 * IIIIIIIZZIII\n",
            "+ 3.5270915171002667e+19 * IIIIIIIIIZII\n",
            "+ 3.348851789193998e+16 * ZIIIIIIIIZII\n",
            "+ 3.757467214069923e+16 * IZIIIIIIIZII\n",
            "+ 7035256876456800.0 * IIZIIIIIIZII\n",
            "+ 3.560302572307367e+16 * IIIZIIIIIZII\n",
            "+ 1.976844960227652e+17 * IIIIZIIIIZII\n",
            "+ 2490076490897100.0 * IIIIIZIIIZII\n",
            "+ 3.0105614230945764e+16 * IIIIIIIZIZII\n",
            "+ 2513930320708200.5 * IIIIIIIIZZII\n",
            "+ 9.995442146192687e+18 * IIIIIIIIIIZI\n",
            "+ 9189704436458258.0 * ZIIIIIIIIIZI\n",
            "+ 1.031100069534445e+16 * IZIIIIIIIIZI\n",
            "+ 1930570099812000.0 * IIZIIIIIIIZI\n",
            "+ 9769954122616264.0 * IIIZIIIIIIZI\n",
            "+ 5.4247312346918e+16 * IIIIZIIIIIZI\n",
            "+ 683310830576500.0 * IIIIIZIIIIZI\n",
            "+ 8261389696407260.0 * IIIIIIIZIIZI\n",
            "+ 689856645663000.1 * IIIIIIIIZIZI\n",
            "+ 7.628700902433962e+16 * IIIIIIIIIZZI\n",
            "+ 1.3193129187001367e+19 * IIIIIIIIIIIZ\n",
            "+ 1.21768312281924e+16 * ZIIIIIIIIIIZ\n",
            "+ 1.366260646674e+16 * IZIIIIIIIIIZ\n",
            "+ 2558104718400000.0 * IIZIIIIIIIIZ\n",
            "+ 1.2945691918698e+16 * IIIZIIIIIIIZ\n",
            "+ 7.18804801176e+16 * IIIIZIIIIIIZ\n",
            "+ 905422009800000.0 * IIIIIZIIIIIZ\n",
            "+ 1.0946766431832e+16 * IIIIIIIZIIIZ\n",
            "+ 914095551600000.1 * IIIIIIIIZIIZ\n",
            "+ 1.010842122525312e+17 * IIIIIIIIIZIZ\n",
            "+ 2.91553035312e+16 * IIIIIIIIIIZZ\n"
          ]
        }
      ]
    },
    {
      "cell_type": "code",
      "source": [
        "qp = QuadraticProgram()\n",
        "qp.from_ising(op, offset, linear=True)\n",
        "print(qp.export_as_lp_string())"
      ],
      "metadata": {
        "colab": {
          "base_uri": "https://localhost:8080/"
        },
        "id": "03d0rn2Ga9vI",
        "outputId": "79ea427a-3bf8-403b-d8f7-880735e152a3"
      },
      "execution_count": null,
      "outputs": [
        {
          "output_type": "stream",
          "name": "stdout",
          "text": [
            "\\ This file has been generated by DOcplex\n",
            "\\ ENCODING=ISO-8859-1\n",
            "\\Problem name: CPLEX\n",
            "\n",
            "Minimize\n",
            " obj: - 26898717402455924736 x0 - 20391935115244048384 x1\n",
            "      - 71589563963954044928 x2 - 860273178120730112 x3 - 7445475540134757376 x4\n",
            "      - 936667570516830976 x6 - 48547690626807840768 x7\n",
            "      - 10481331456626970624 x8 - 2633142140914386432 x9\n",
            "      - 9399356319873693696 x10 - 8610442563439063040 x11 + [\n",
            "      233242428249600000 x0*x1 + 808673698020249600 x0*x2\n",
            "      + 7312764412800001 x0*x3 + 87574131454656000 x0*x4\n",
            "      + 7243376078400000 x0*x6 + 575043840940800000 x0*x7\n",
            "      + 103565535349584000 x0*x8 + 20464837747200000 x0*x9\n",
            "      + 109300851733920000 x0*x10 + 97414649825539200 x0*x11\n",
            "      + 610296072194716928 x1*x2 + 5518853165304001 x1*x3\n",
            "      + 66091117571258080 x1*x4 + 5466486644612000 x1*x6\n",
            "      + 433978498775344000 x1*x7 + 78159632980930112 x1*x8\n",
            "      + 15444560798496000 x1*x9 + 82488005562755600 x1*x10\n",
            "      + 73517635491666064 x1*x11 + 20111442565665604 x2*x3\n",
            "      + 240844913847566112 x2*x4 + 19920611927176800 x2*x6\n",
            "      + 1581475968182121472 x2*x7 + 284824205784589376 x2*x8\n",
            "      + 56282055011654400 x2*x9 + 300597377125593856 x2*x10\n",
            "      + 267908143135519840 x2*x11 + 2751657360201120 x3*x4\n",
            "      + 227593340268000 x3*x6 + 18068390643216000 x3*x7 + 3254121541078680 x3*x8\n",
            "      + 643023464544000 x3*x9 + 3434330299988400 x3*x10\n",
            "      + 3060855228951384 x3*x11 + 1978431770514080.250000000000 x4*x6\n",
            "      + 157065571639768960 x4*x7 + 28287547581151704 x4*x8\n",
            "      + 5589698055056640 x4*x9 + 29854072917666708 x4*x10\n",
            "      + 26607515065119008 x4*x11 + 19673903420192004 x6*x7\n",
            "      + 3543274781962161 x6*x8 + 700160948928000.125000000000 x6*x9\n",
            "      + 3739496448200801 x6*x10 + 3332835300425009 x6*x11\n",
            "      + 189833592972690400 x7*x8 + 37511645800320000 x7*x9\n",
            "      + 200346315302552000 x7*x10 + 178559140568695520 x7*x11\n",
            "      + 7884957353274145 x8*x9 + 42112845713444048 x8*x10\n",
            "      + 37533176121252368 x8*x11 + 10524234271375200 x9*x10\n",
            "      + 9379749379480752 x9*x11 + 33634132307323060 x10*x11 ]/2 -24576\n",
            "Subject To\n",
            "\n",
            "Bounds\n",
            " 0 <= x0 <= 1\n",
            " 0 <= x1 <= 1\n",
            " 0 <= x2 <= 1\n",
            " 0 <= x3 <= 1\n",
            " 0 <= x4 <= 1\n",
            " 0 <= x5 <= 1\n",
            " 0 <= x6 <= 1\n",
            " 0 <= x7 <= 1\n",
            " 0 <= x8 <= 1\n",
            " 0 <= x9 <= 1\n",
            " 0 <= x10 <= 1\n",
            " 0 <= x11 <= 1\n",
            "\n",
            "Binaries\n",
            " x0 x1 x2 x3 x4 x5 x6 x7 x8 x9 x10 x11\n",
            "End\n",
            "\n"
          ]
        }
      ]
    },
    {
      "cell_type": "code",
      "source": [
        "algorithm_globals.random_seed = 10598\n",
        "quantum_instance = QuantumInstance(\n",
        "    BasicAer.get_backend(\"statevector_simulator\"),\n",
        "    seed_simulator=algorithm_globals.random_seed,\n",
        "    seed_transpiler=algorithm_globals.random_seed,\n",
        ")\n",
        "qaoa_mes = QAOA(quantum_instance=quantum_instance, initial_point=[0.0, 0.0])\n",
        "exact_mes = NumPyMinimumEigensolver()"
      ],
      "metadata": {
        "id": "Xx2qpXTMaRDl"
      },
      "execution_count": null,
      "outputs": []
    },
    {
      "cell_type": "code",
      "source": [
        "qaoa = MinimumEigenOptimizer(qaoa_mes)  # using QAOA\n",
        "exact = MinimumEigenOptimizer(exact_mes)  # using the exact classical numpy minimum eigen solver"
      ],
      "metadata": {
        "id": "7QdJBfNCaCuM"
      },
      "execution_count": null,
      "outputs": []
    },
    {
      "cell_type": "code",
      "source": [
        "exact_result = exact.solve(qubo)\n",
        "print(exact_result)"
      ],
      "metadata": {
        "colab": {
          "base_uri": "https://localhost:8080/"
        },
        "id": "SoMgvttDgdJp",
        "outputId": "8835d2b6-21cb-4aea-88d7-8c0d9402a46c"
      },
      "execution_count": null,
      "outputs": [
        {
          "output_type": "stream",
          "name": "stdout",
          "text": [
            "optimal function value: -2.0416864889600066e+20\n",
            "optimal value: [1. 1. 1. 1. 1. 1. 1. 1. 1. 1. 1. 1.]\n",
            "status: SUCCESS\n"
          ]
        }
      ]
    },
    {
      "cell_type": "code",
      "source": [
        ""
      ],
      "metadata": {
        "id": "vjBCrcC9gevj"
      },
      "execution_count": null,
      "outputs": []
    }
  ]
}