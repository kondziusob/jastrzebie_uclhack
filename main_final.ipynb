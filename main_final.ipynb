{
  "nbformat": 4,
  "nbformat_minor": 0,
  "metadata": {
    "colab": {
      "name": "main_final.ipynb",
      "provenance": [],
      "collapsed_sections": []
    },
    "kernelspec": {
      "name": "python3",
      "display_name": "Python 3"
    },
    "language_info": {
      "name": "python"
    }
  },
  "cells": [
    {
      "cell_type": "code",
      "execution_count": null,
      "metadata": {
        "colab": {
          "base_uri": "https://localhost:8080/"
        },
        "id": "wkaOa-tTp90c",
        "outputId": "c0d4841d-5ea3-492a-f2b3-b6caf119822e"
      },
      "outputs": [
        {
          "output_type": "stream",
          "name": "stdout",
          "text": [
            "ERROR: unknown command \"instal\" - maybe you meant \"install\"\n",
            "Collecting qiskit-optimization\n",
            "  Downloading qiskit_optimization-0.3.1-py3-none-any.whl (154 kB)\n",
            "\u001b[K     |████████████████████████████████| 154 kB 17.7 MB/s \n",
            "\u001b[?25hRequirement already satisfied: setuptools>=40.1.0 in /usr/local/lib/python3.7/dist-packages (from qiskit-optimization) (57.4.0)\n",
            "Collecting qiskit-terra>=0.19.1\n",
            "  Downloading qiskit_terra-0.19.2-cp37-cp37m-manylinux_2_12_x86_64.manylinux2010_x86_64.whl (6.5 MB)\n",
            "\u001b[K     |████████████████████████████████| 6.5 MB 64.6 MB/s \n",
            "\u001b[?25hRequirement already satisfied: scipy>=1.4 in /usr/local/lib/python3.7/dist-packages (from qiskit-optimization) (1.4.1)\n",
            "Collecting docplex>=2.21.207\n",
            "  Downloading docplex-2.22.213.tar.gz (634 kB)\n",
            "\u001b[K     |████████████████████████████████| 634 kB 68.0 MB/s \n",
            "\u001b[?25hRequirement already satisfied: numpy>=1.17 in /usr/local/lib/python3.7/dist-packages (from qiskit-optimization) (1.21.5)\n",
            "Collecting networkx<2.6,>=2.2\n",
            "  Downloading networkx-2.5.1-py3-none-any.whl (1.6 MB)\n",
            "\u001b[K     |████████████████████████████████| 1.6 MB 48.0 MB/s \n",
            "\u001b[?25hRequirement already satisfied: six in /usr/local/lib/python3.7/dist-packages (from docplex>=2.21.207->qiskit-optimization) (1.15.0)\n",
            "Requirement already satisfied: decorator<5,>=4.3 in /usr/local/lib/python3.7/dist-packages (from networkx<2.6,>=2.2->qiskit-optimization) (4.4.2)\n",
            "Requirement already satisfied: python-dateutil>=2.8.0 in /usr/local/lib/python3.7/dist-packages (from qiskit-terra>=0.19.1->qiskit-optimization) (2.8.2)\n",
            "Requirement already satisfied: sympy>=1.3 in /usr/local/lib/python3.7/dist-packages (from qiskit-terra>=0.19.1->qiskit-optimization) (1.7.1)\n",
            "Collecting tweedledum<2.0,>=1.1\n",
            "  Downloading tweedledum-1.1.1-cp37-cp37m-manylinux_2_12_x86_64.manylinux2010_x86_64.whl (943 kB)\n",
            "\u001b[K     |████████████████████████████████| 943 kB 49.1 MB/s \n",
            "\u001b[?25hCollecting stevedore>=3.0.0\n",
            "  Downloading stevedore-3.5.0-py3-none-any.whl (49 kB)\n",
            "\u001b[K     |████████████████████████████████| 49 kB 6.8 MB/s \n",
            "\u001b[?25hCollecting scipy>=1.4\n",
            "  Downloading scipy-1.7.3-cp37-cp37m-manylinux_2_12_x86_64.manylinux2010_x86_64.whl (38.1 MB)\n",
            "\u001b[K     |████████████████████████████████| 38.1 MB 1.3 MB/s \n",
            "\u001b[?25hCollecting retworkx>=0.10.1\n",
            "  Downloading retworkx-0.11.0-cp37-cp37m-manylinux_2_5_x86_64.manylinux1_x86_64.manylinux_2_12_x86_64.manylinux2010_x86_64.whl (1.6 MB)\n",
            "\u001b[K     |████████████████████████████████| 1.6 MB 60.5 MB/s \n",
            "\u001b[?25hCollecting python-constraint>=1.4\n",
            "  Downloading python-constraint-1.4.0.tar.bz2 (18 kB)\n",
            "Collecting symengine>=0.8\n",
            "  Downloading symengine-0.9.0-cp37-cp37m-manylinux2010_x86_64.whl (37.5 MB)\n",
            "\u001b[K     |████████████████████████████████| 37.5 MB 450 kB/s \n",
            "\u001b[?25hCollecting ply>=3.10\n",
            "  Downloading ply-3.11-py2.py3-none-any.whl (49 kB)\n",
            "\u001b[K     |████████████████████████████████| 49 kB 6.8 MB/s \n",
            "\u001b[?25hRequirement already satisfied: dill>=0.3 in /usr/local/lib/python3.7/dist-packages (from qiskit-terra>=0.19.1->qiskit-optimization) (0.3.4)\n",
            "Requirement already satisfied: psutil>=5 in /usr/local/lib/python3.7/dist-packages (from qiskit-terra>=0.19.1->qiskit-optimization) (5.4.8)\n",
            "Collecting pbr!=2.1.0,>=2.0.0\n",
            "  Downloading pbr-5.8.1-py2.py3-none-any.whl (113 kB)\n",
            "\u001b[K     |████████████████████████████████| 113 kB 26.2 MB/s \n",
            "\u001b[?25hRequirement already satisfied: importlib-metadata>=1.7.0 in /usr/local/lib/python3.7/dist-packages (from stevedore>=3.0.0->qiskit-terra>=0.19.1->qiskit-optimization) (4.11.1)\n",
            "Requirement already satisfied: typing-extensions>=3.6.4 in /usr/local/lib/python3.7/dist-packages (from importlib-metadata>=1.7.0->stevedore>=3.0.0->qiskit-terra>=0.19.1->qiskit-optimization) (3.10.0.2)\n",
            "Requirement already satisfied: zipp>=0.5 in /usr/local/lib/python3.7/dist-packages (from importlib-metadata>=1.7.0->stevedore>=3.0.0->qiskit-terra>=0.19.1->qiskit-optimization) (3.7.0)\n",
            "Requirement already satisfied: mpmath>=0.19 in /usr/local/lib/python3.7/dist-packages (from sympy>=1.3->qiskit-terra>=0.19.1->qiskit-optimization) (1.2.1)\n",
            "Building wheels for collected packages: docplex, python-constraint\n",
            "  Building wheel for docplex (setup.py) ... \u001b[?25l\u001b[?25hdone\n",
            "  Created wheel for docplex: filename=docplex-2.22.213-py3-none-any.whl size=696882 sha256=a35310a7f70d55ccaeb161a70532b64841c223181095863eb5a4cba541dbdb16\n",
            "  Stored in directory: /root/.cache/pip/wheels/90/69/6b/1375c68a5b7ff94c40263b151c86f58bd72200bf0c465b5ba3\n",
            "  Building wheel for python-constraint (setup.py) ... \u001b[?25l\u001b[?25hdone\n",
            "  Created wheel for python-constraint: filename=python_constraint-1.4.0-py2.py3-none-any.whl size=24081 sha256=a1276bd0e7a8fc4bcb67e2d0053a5dd75ea31579b5c0d3376ea9efc3d466a700\n",
            "  Stored in directory: /root/.cache/pip/wheels/07/27/db/1222c80eb1e431f3d2199c12569cb1cac60f562a451fe30479\n",
            "Successfully built docplex python-constraint\n",
            "Installing collected packages: pbr, tweedledum, symengine, stevedore, scipy, retworkx, python-constraint, ply, qiskit-terra, networkx, docplex, qiskit-optimization\n",
            "  Attempting uninstall: scipy\n",
            "    Found existing installation: scipy 1.4.1\n",
            "    Uninstalling scipy-1.4.1:\n",
            "      Successfully uninstalled scipy-1.4.1\n",
            "  Attempting uninstall: networkx\n",
            "    Found existing installation: networkx 2.6.3\n",
            "    Uninstalling networkx-2.6.3:\n",
            "      Successfully uninstalled networkx-2.6.3\n",
            "\u001b[31mERROR: pip's dependency resolver does not currently take into account all the packages that are installed. This behaviour is the source of the following dependency conflicts.\n",
            "albumentations 0.1.12 requires imgaug<0.2.7,>=0.2.5, but you have imgaug 0.2.9 which is incompatible.\u001b[0m\n",
            "Successfully installed docplex-2.22.213 networkx-2.5.1 pbr-5.8.1 ply-3.11 python-constraint-1.4.0 qiskit-optimization-0.3.1 qiskit-terra-0.19.2 retworkx-0.11.0 scipy-1.7.3 stevedore-3.5.0 symengine-0.9.0 tweedledum-1.1.1\n"
          ]
        }
      ],
      "source": [
        "!pip instal qiskit \n",
        "!pip install qiskit-optimization"
      ]
    },
    {
      "cell_type": "code",
      "source": [
        "import json\n",
        "import time\n",
        "from typing import List, Optional, Any\n",
        "import numpy as np\n",
        "import matplotlib.pyplot as plt\n",
        "\n",
        "from docplex.mp.model import Model\n",
        "\n",
        "from qiskit import BasicAer\n",
        "from qiskit.algorithms import QAOA, NumPyMinimumEigensolver\n",
        "from qiskit_optimization.algorithms import CobylaOptimizer, MinimumEigenOptimizer\n",
        "from qiskit_optimization.problems import QuadraticProgram\n",
        "from qiskit_optimization.algorithms.admm_optimizer import ADMMParameters, ADMMOptimizer\n",
        "from qiskit_optimization.translators import from_docplex_mp"
      ],
      "metadata": {
        "id": "g7iwc1t8qAok"
      },
      "execution_count": null,
      "outputs": []
    },
    {
      "cell_type": "code",
      "source": [
        "with open('data_consumption.json') as json_file:\n",
        "    data_consumption = json.load(json_file)\n",
        "\n",
        "capacity_location = {\"UK\": {\"solar\": 11227.5, \"onshore\": 3082.8, \"offshore\": 8760.7}, \"NI\": {\"solar\": 334.9, \"onshore\": 1354.3, \"offshore\": 0}, \"SC\": {\"solar\": 353.9, \"onshore\": 8347.7, \"offshore\": 898.2}, \"WA\": {\"solar\": 1088.2, \"onshore\": 1313.1, \"offshore\": 724.0}}\n"
      ],
      "metadata": {
        "id": "I6Ny3O2NqMDa"
      },
      "execution_count": null,
      "outputs": []
    },
    {
      "cell_type": "code",
      "source": [
        "data_consumption"
      ],
      "metadata": {
        "colab": {
          "base_uri": "https://localhost:8080/"
        },
        "id": "BZyL2BUzqNTJ",
        "outputId": "79c68dce-217b-43ab-bd7d-623d885eb2fe"
      },
      "execution_count": null,
      "outputs": [
        {
          "output_type": "execute_result",
          "data": {
            "text/plain": [
              "{'NI': 7177, 'SC': 22708.3, 'UK': 219924.9, 'WA': 13825.9}"
            ]
          },
          "metadata": {},
          "execution_count": 6
        }
      ]
    },
    {
      "cell_type": "code",
      "source": [
        "capacity_location"
      ],
      "metadata": {
        "colab": {
          "base_uri": "https://localhost:8080/"
        },
        "id": "dVwEmRnTqZSV",
        "outputId": "e425305a-e4a4-48dd-9cb2-0328fb5bb53d"
      },
      "execution_count": null,
      "outputs": [
        {
          "output_type": "execute_result",
          "data": {
            "text/plain": [
              "{'NI': {'offshore': 0, 'onshore': 1354.3, 'solar': 334.9},\n",
              " 'SC': {'offshore': 898.2, 'onshore': 8347.7, 'solar': 353.9},\n",
              " 'UK': {'offshore': 8760.7, 'onshore': 3082.8, 'solar': 11227.5},\n",
              " 'WA': {'offshore': 724.0, 'onshore': 1313.1, 'solar': 1088.2}}"
            ]
          },
          "metadata": {},
          "execution_count": 8
        }
      ]
    },
    {
      "cell_type": "code",
      "source": [
        "locations = \"UK,NI,SC,WA\".split(\",\")\n",
        "sources = \"solar,onshore,offshore\".split(\",\")\n",
        "mdl = Model(\"ex5\")\n",
        "\n",
        "def create_variable(capacity_location):\n",
        "  variables = {}\n",
        "  for location, sources in capacity_location.items():\n",
        "    variables[location] = {}\n",
        "    for source in sources: \n",
        "      variables[location][source] = mdl.continuous_var(name=f\"{location}_{source}\")  \n",
        "  return variables\n",
        "\n",
        "def capacity_per_source(variables, sources):\n",
        "  res = {}\n",
        "  for source in sources: \n",
        "    res[source] = {}\n",
        "  for location, sources in variables.items():\n",
        "    for source, value in sources.items():\n",
        "      res[source][location] = value\n",
        "  return res\n",
        "variables = create_variable(capacity_location)\n",
        "\n",
        "location_capacity = {location: sum(sources.values()) for location, sources in variables.items()}\n",
        "capacity_source = capacity_per_source(variables, sources)\n",
        "avergae_source_demand = sum(data_consumption.values())/len(data_consumption)\n",
        "lower_threshold, upper_threshold = 0.5, 1.5\n",
        "cost_function = [(location_capacity[location] - data_consumption[location])**2 for location in locations] \n",
        "upper_constrains = [sum(capacity_source[source].values()) <= upper_threshold*avergae_source_demand for source in sources]\n",
        "lower_constrains = [sum(capacity_source[source].values()) >= lower_threshold*avergae_source_demand for source in sources]"
      ],
      "metadata": {
        "id": "w017cinAqcJj"
      },
      "execution_count": null,
      "outputs": []
    },
    {
      "cell_type": "code",
      "source": [
        "sum(cost_function)\n",
        "\n"
      ],
      "metadata": {
        "colab": {
          "base_uri": "https://localhost:8080/"
        },
        "id": "shW75g9x6YAp",
        "outputId": "3fa40a5b-4986-4f88-f44f-4ac62ef1b7c3"
      },
      "execution_count": null,
      "outputs": [
        {
          "output_type": "execute_result",
          "data": {
            "text/plain": [
              "docplex.mp.quad.QuadExpr(UK_solar^2+2UK_solar*UK_onshore+2UK_solar*UK_offshore+UK_onshore^2+2UK_onshore*UK_offshore+UK_offshore^2+NI_solar^2+2NI_solar*NI_onshore+2NI_solar*NI_offshore+NI_onshore^2+2NI_onshore*NI_offshore+NI_offshore^2+SC_solar^2+2SC_solar*SC_onshore+2SC_solar*SC_offshore+SC_onshore^2+2SC_onshore*SC_offshore+SC_offshore^2+WA_solar^2+2WA_solar*WA_onshore+2WA_solar*WA_offshore+WA_onshore^2+2WA_onshore*WA_offshore+WA_offshore^2-439849.800UK_solar-439849.800UK_onshore-439849.800UK_offshore-14354NI_solar-14354NI_onshore-14354NI_offshore-45416.600SC_solar-45416.600SC_onshore-45416.600SC_offshore-27651.800WA_solar-27651.800WA_onshore-27651.800WA_offshore+49125293368.710)"
            ]
          },
          "metadata": {},
          "execution_count": 381
        }
      ]
    },
    {
      "cell_type": "code",
      "source": [
        "res = []\n",
        "\n",
        "for location in locations:\n",
        "  arr = []\n",
        "  for source in sources:\n",
        "    for source_ in sources:\n",
        "      if source==source_:\n",
        "        break;\n",
        "      arr.append(variables[location][source] * variables[location][source_])\n",
        "  res.append(sum(arr))\n",
        "res"
      ],
      "metadata": {
        "colab": {
          "base_uri": "https://localhost:8080/"
        },
        "id": "9EjRAJujvVIs",
        "outputId": "05272fb8-db11-4121-837f-88614905b9b0"
      },
      "execution_count": null,
      "outputs": [
        {
          "output_type": "execute_result",
          "data": {
            "text/plain": [
              "[docplex.mp.quad.QuadExpr(UK_solar*UK_onshore+UK_solar*UK_offshore+UK_onshore*UK_offshore),\n",
              " docplex.mp.quad.QuadExpr(NI_solar*NI_onshore+NI_solar*NI_offshore+NI_onshore*NI_offshore),\n",
              " docplex.mp.quad.QuadExpr(SC_solar*SC_onshore+SC_solar*SC_offshore+SC_onshore*SC_offshore),\n",
              " docplex.mp.quad.QuadExpr(WA_solar*WA_onshore+WA_solar*WA_offshore+WA_onshore*WA_offshore)]"
            ]
          },
          "metadata": {},
          "execution_count": 371
        }
      ]
    },
    {
      "cell_type": "code",
      "source": [
        "tmp"
      ],
      "metadata": {
        "colab": {
          "base_uri": "https://localhost:8080/"
        },
        "id": "sUBsqtTX_jY8",
        "outputId": "6e46f990-09dc-49c9-87c7-f1e89f6c2640"
      },
      "execution_count": null,
      "outputs": [
        {
          "output_type": "execute_result",
          "data": {
            "text/plain": [
              "[]"
            ]
          },
          "metadata": {},
          "execution_count": 372
        }
      ]
    },
    {
      "cell_type": "code",
      "source": [
        "mdl.minimize(sum(cost_function) - sum(res))\n",
        "\n",
        "#for lower_const in lower_constrains:\n",
        "#  mdl.add_constraint(lower_const)\n",
        "#  print(lower_const)\n",
        "#for upper_const in upper_constrains:\n",
        "#  mdl.add_constraint(upper_const)"
      ],
      "metadata": {
        "id": "9oaXS3p-qyiv"
      },
      "execution_count": null,
      "outputs": []
    },
    {
      "cell_type": "code",
      "source": [
        "# load quadratic program from docplex model\n",
        "qp = from_docplex_mp(mdl)\n",
        "print(qp.export_as_lp_string())"
      ],
      "metadata": {
        "colab": {
          "base_uri": "https://localhost:8080/"
        },
        "id": "PlBbUIC_rWx1",
        "outputId": "fef0c7ca-0cf0-4553-fd07-c7d2e142b4fd"
      },
      "execution_count": null,
      "outputs": [
        {
          "output_type": "stream",
          "name": "stdout",
          "text": [
            "\\ This file has been generated by DOcplex\n",
            "\\ ENCODING=ISO-8859-1\n",
            "\\Problem name: ex5\n",
            "\n",
            "Minimize\n",
            " obj: - 439849.799999999988 UK_solar - 439849.799999999988 UK_onshore\n",
            "      - 439849.799999999988 UK_offshore - 14354 NI_solar - 14354 NI_onshore\n",
            "      - 14354 NI_offshore - 45416.599999999999 SC_solar\n",
            "      - 45416.599999999999 SC_onshore - 45416.599999999999 SC_offshore\n",
            "      - 27651.799999999999 WA_solar - 27651.799999999999 WA_onshore\n",
            "      - 27651.799999999999 WA_offshore + [ 2 UK_solar^2 + 2 UK_solar*UK_onshore\n",
            "      + 2 UK_solar*UK_offshore + 2 UK_onshore^2 + 2 UK_onshore*UK_offshore\n",
            "      + 2 UK_offshore^2 + 2 NI_solar^2 + 2 NI_solar*NI_onshore\n",
            "      + 2 NI_solar*NI_offshore + 2 NI_onshore^2 + 2 NI_onshore*NI_offshore\n",
            "      + 2 NI_offshore^2 + 2 SC_solar^2 + 2 SC_solar*SC_onshore\n",
            "      + 2 SC_solar*SC_offshore + 2 SC_onshore^2 + 2 SC_onshore*SC_offshore\n",
            "      + 2 SC_offshore^2 + 2 WA_solar^2 + 2 WA_solar*WA_onshore\n",
            "      + 2 WA_solar*WA_offshore + 2 WA_onshore^2 + 2 WA_onshore*WA_offshore\n",
            "      + 2 WA_offshore^2 ]/2 + 49125293368.709991455078\n",
            "Subject To\n",
            "\n",
            "Bounds\n",
            "End\n",
            "\n"
          ]
        }
      ]
    },
    {
      "cell_type": "code",
      "source": [
        "# define COBYLA optimizer to handle convex continuous problems.\n",
        "cobyla = CobylaOptimizer()\n",
        "\n",
        "# define QAOA via the minimum eigen optimizer\n",
        "qaoa = MinimumEigenOptimizer(QAOA(quantum_instance=BasicAer.get_backend(\"statevector_simulator\")))\n",
        "\n",
        "# exact QUBO solver as classical benchmark\n",
        "exact = MinimumEigenOptimizer(NumPyMinimumEigensolver())  # to solve QUBOs\n",
        "\n",
        "# in case CPLEX is installed it can also be used for the convex problems, the QUBO,\n",
        "# or as a benchmark for the full problem.\n",
        "#\n",
        "# cplex = CplexOptimizer()\n",
        "\n",
        "admm_params = ADMMParameters(\n",
        "    rho_initial=1001, beta=1000, factor_c=900, maxiter=100, three_block=True, tol=1.0e-5\n",
        ")"
      ],
      "metadata": {
        "id": "3aGWn0goroRn"
      },
      "execution_count": null,
      "outputs": []
    },
    {
      "cell_type": "code",
      "source": [
        "# define QUBO optimizer\n",
        "qubo_optimizer = exact\n",
        "# qubo_optimizer = cplex  # uncomment to use CPLEX instead\n",
        "\n",
        "# define classical optimizer\n",
        "convex_optimizer = cobyla\n",
        "# convex_optimizer = cplex  # uncomment to use CPLEX instead\n",
        "\n",
        "# initialize ADMM with classical QUBO and convex optimizer\n",
        "admm = ADMMOptimizer(\n",
        "    params=admm_params, qubo_optimizer=qubo_optimizer, continuous_optimizer=convex_optimizer\n",
        ")\n",
        "\n",
        "# run ADMM to solve problem\n",
        "result = admm.solve(qp)"
      ],
      "metadata": {
        "id": "VkGU4gqRsOrC"
      },
      "execution_count": null,
      "outputs": []
    },
    {
      "cell_type": "code",
      "source": [
        "result"
      ],
      "metadata": {
        "colab": {
          "base_uri": "https://localhost:8080/"
        },
        "id": "u4Kzq4JWub5r",
        "outputId": "c55cf547-bca4-49c6-caa2-cc3c296d2628"
      },
      "execution_count": null,
      "outputs": [
        {
          "output_type": "execute_result",
          "data": {
            "text/plain": [
              "optimal function value: 48371805511.14843\n",
              "optimal value: [561.43353213 563.03609395 564.34012957  19.38281165  19.38153089\n",
              "  19.38025012  59.16668437  59.16540361  59.16412284  44.25136745\n",
              "  44.52173562  45.24935483]\n",
              "status: SUCCESS"
            ]
          },
          "metadata": {},
          "execution_count": 377
        }
      ]
    },
    {
      "cell_type": "code",
      "source": [
        "sum(result.x)"
      ],
      "metadata": {
        "colab": {
          "base_uri": "https://localhost:8080/"
        },
        "id": "nmm0rjwW6CUA",
        "outputId": "4f9971be-ab36-474d-c82e-3dc971ea4ab6"
      },
      "execution_count": null,
      "outputs": [
        {
          "output_type": "execute_result",
          "data": {
            "text/plain": [
              "2058.4730170354933"
            ]
          },
          "metadata": {},
          "execution_count": 358
        }
      ]
    },
    {
      "cell_type": "code",
      "source": [
        "print(\"x={}\".format(result.x))\n",
        "print(\"fval={:.2f}\".format(result.fval))"
      ],
      "metadata": {
        "colab": {
          "base_uri": "https://localhost:8080/"
        },
        "id": "bE1J1eQBurWE",
        "outputId": "0e07d671-5c09-4e25-e8ae-b2de9af4a5fb"
      },
      "execution_count": null,
      "outputs": [
        {
          "output_type": "stream",
          "name": "stdout",
          "text": [
            "x=[561.43353213 563.03609395 564.34012957  19.38281165  19.38153089\n",
            "  19.38025012  59.16668437  59.16540361  59.16412284  44.25136745\n",
            "  44.52173562  45.24935483]\n",
            "fval=48371805511.15\n"
          ]
        }
      ]
    },
    {
      "cell_type": "code",
      "source": [
        "plt.plot(result.state.residuals)\n",
        "plt.xlabel(\"Iterations\")\n",
        "plt.ylabel(\"Residuals\")\n",
        "plt.show()"
      ],
      "metadata": {
        "colab": {
          "base_uri": "https://localhost:8080/",
          "height": 279
        },
        "id": "eR8sqZoiuzcw",
        "outputId": "bfff4175-ff23-49ff-f27a-432dc70d7ba1"
      },
      "execution_count": null,
      "outputs": [
        {
          "output_type": "display_data",
          "data": {
            "image/png": "[encoded data removed]",
            "text/plain": [
              "<Figure size 432x288 with 1 Axes>"
            ]
          },
          "metadata": {
            "needs_background": "light"
          }
        }
      ]
    },
    {
      "cell_type": "code",
      "source": [
        "result.__dir__()\n"
      ],
      "metadata": {
        "colab": {
          "base_uri": "https://localhost:8080/"
        },
        "id": "3CyJC5FVu6S6",
        "outputId": "d5fdf029-aaf8-4afa-88df-fc3401877c5d"
      },
      "execution_count": null,
      "outputs": [
        {
          "output_type": "execute_result",
          "data": {
            "text/plain": [
              "['_variables',\n",
              " '_variable_names',\n",
              " '_x',\n",
              " '_variables_dict',\n",
              " '_fval',\n",
              " '_raw_results',\n",
              " '_status',\n",
              " '_samples',\n",
              " '__module__',\n",
              " '__doc__',\n",
              " '__init__',\n",
              " 'state',\n",
              " '__repr__',\n",
              " '__getitem__',\n",
              " 'get_correlations',\n",
              " 'x',\n",
              " 'fval',\n",
              " 'raw_results',\n",
              " 'status',\n",
              " 'variables',\n",
              " 'variables_dict',\n",
              " 'variable_names',\n",
              " 'samples',\n",
              " '__dict__',\n",
              " '__weakref__',\n",
              " '__hash__',\n",
              " '__str__',\n",
              " '__getattribute__',\n",
              " '__setattr__',\n",
              " '__delattr__',\n",
              " '__lt__',\n",
              " '__le__',\n",
              " '__eq__',\n",
              " '__ne__',\n",
              " '__gt__',\n",
              " '__ge__',\n",
              " '__new__',\n",
              " '__reduce_ex__',\n",
              " '__reduce__',\n",
              " '__subclasshook__',\n",
              " '__init_subclass__',\n",
              " '__format__',\n",
              " '__sizeof__',\n",
              " '__dir__',\n",
              " '__class__']"
            ]
          },
          "metadata": {},
          "execution_count": 361
        }
      ]
    },
    {
      "cell_type": "code",
      "source": [
        "result._variable_names"
      ],
      "metadata": {
        "colab": {
          "base_uri": "https://localhost:8080/"
        },
        "id": "PAj4zshR3qvq",
        "outputId": "09b27f8c-bd6e-4244-eb4a-33b24f208abd"
      },
      "execution_count": null,
      "outputs": [
        {
          "output_type": "execute_result",
          "data": {
            "text/plain": [
              "['UK_solar',\n",
              " 'UK_onshore',\n",
              " 'UK_offshore',\n",
              " 'NI_solar',\n",
              " 'NI_onshore',\n",
              " 'NI_offshore',\n",
              " 'SC_solar',\n",
              " 'SC_onshore',\n",
              " 'SC_offshore',\n",
              " 'WA_solar',\n",
              " 'WA_onshore',\n",
              " 'WA_offshore']"
            ]
          },
          "metadata": {},
          "execution_count": 237
        }
      ]
    },
    {
      "cell_type": "code",
      "source": [
        ""
      ],
      "metadata": {
        "id": "Q-IAEJ6130Oq"
      },
      "execution_count": null,
      "outputs": []
    }
  ]
}