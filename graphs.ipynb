{
 "cells": [
  {
   "cell_type": "code",
   "execution_count": 69,
   "id": "af03a0a1-3f29-4ddc-93ca-2721b6ede536",
   "metadata": {},
   "outputs": [
    {
     "name": "stderr",
     "output_type": "stream",
     "text": [
      "ibmqfactory.load_account:WARNING:2022-02-27 02:24:32,954: Credentials are already in use. The existing account in the session will be replaced.\n"
     ]
    }
   ],
   "source": [
    "import numpy as np\n",
    "\n",
    "# Importing standard Qiskit libraries\n",
    "from qiskit import QuantumCircuit, transpile, Aer, IBMQ\n",
    "from qiskit.tools.jupyter import *\n",
    "from qiskit.visualization import *\n",
    "from ibm_quantum_widgets import *\n",
    "from qiskit.providers.aer import QasmSimulator\n",
    "from itertools import combinations\n",
    "# Loading your IBM Quantum account(s)\n",
    "provider = IBMQ.load_account()"
   ]
  },
  {
   "cell_type": "code",
   "execution_count": 70,
   "id": "3a5cbb5c-6f99-440a-8c11-d622494844c0",
   "metadata": {},
   "outputs": [],
   "source": [
    "# useful additional packages\n",
    "import matplotlib.pyplot as plt\n",
    "import matplotlib.axes as axes\n",
    "import networkx as nx\n",
    "\n",
    "from qiskit import Aer\n",
    "from qiskit.tools.visualization import plot_histogram\n",
    "from qiskit.circuit.library import TwoLocal\n",
    "from qiskit_optimization.applications import Maxcut, Tsp\n",
    "from qiskit.algorithms import VQE, NumPyMinimumEigensolver\n",
    "from qiskit.algorithms.optimizers import SPSA\n",
    "from qiskit.utils import algorithm_globals, QuantumInstance\n",
    "from qiskit_optimization.algorithms import MinimumEigenOptimizer\n",
    "from qiskit_optimization.problems import QuadraticProgram"
   ]
  },
  {
   "cell_type": "code",
   "execution_count": 71,
   "id": "481e4b4a-3381-44e3-8d10-0626e3f7492e",
   "metadata": {},
   "outputs": [],
   "source": [
    "with open('dataset.json') as json_file:\n",
    "    data = json.load(json_file)"
   ]
  },
  {
   "cell_type": "code",
   "execution_count": 72,
   "id": "ab4a3035-c074-48f0-8ce3-275656c9e915",
   "metadata": {},
   "outputs": [],
   "source": [
    "num_city = 15\n",
    "num_conn = 5\n",
    "num_pow = 4 # max=8"
   ]
  },
  {
   "cell_type": "code",
   "execution_count": 73,
   "id": "20feb671-b234-450d-9be3-2d977acfe0f3",
   "metadata": {},
   "outputs": [],
   "source": [
    "keys = list(data.keys())[:num_city]\n",
    "# keys"
   ]
  },
  {
   "cell_type": "code",
   "execution_count": 74,
   "id": "d7447705-8902-41d1-bc54-7cae5765b091",
   "metadata": {},
   "outputs": [
    {
     "data": {
      "text/plain": [
       "array([[  0,  34, 711, 281, 460],\n",
       "       [ 34,   0, 720, 276, 466],\n",
       "       [711, 720,   0, 473, 255],\n",
       "       [281, 276, 473,   0, 220],\n",
       "       [460, 466, 255, 220,   0],\n",
       "       [ 73,  57, 670, 218, 415],\n",
       "       [242, 210, 724, 255, 475],\n",
       "       [710, 718,  19, 467, 252],\n",
       "       [454, 462, 258, 223,  15],\n",
       "       [695, 708,  88, 483, 263],\n",
       "       [607, 615, 105, 369, 150],\n",
       "       [598, 613, 159, 404, 193],\n",
       "       [639, 650,  84, 418, 197],\n",
       "       [623, 634,  90, 396, 175],\n",
       "       [402, 409, 312, 173,  58]])"
      ]
     },
     "execution_count": 74,
     "metadata": {},
     "output_type": "execute_result"
    }
   ],
   "source": [
    "M = num_city*[num_conn*[0]]\n",
    "M_np = np.array(M)\n",
    "# print(M_np)\n",
    "i, j = 0, 0\n",
    "for m in keys:\n",
    "    j = 0\n",
    "    keys2 = list(data[m].keys())[:num_conn]\n",
    "    for n in keys2:\n",
    "        M_np[i,j] = data[m][n]\n",
    "        j += 1\n",
    "    i += 1\n",
    "M_np"
   ]
  },
  {
   "cell_type": "code",
   "execution_count": 75,
   "id": "568f0401-14ec-4f67-b4ee-39e0f826de0f",
   "metadata": {},
   "outputs": [
    {
     "data": {
      "text/plain": [
       "array([[   8263835,    3328756,    7387769,    2790349,          0],\n",
       "       [  42830135, 1204777798,  452338114,    7073097,          0],\n",
       "       [   3163245,     569993,          0,          0,          0],\n",
       "       [  34125633,  255192991,          0,    3109118,          0],\n",
       "       [   8811023,   12956616,          0,    2260981,          0],\n",
       "       [  37674835,   47607923,          0,    7249568,          0],\n",
       "       [   6924953,  882966913,          0,  677650443,          0],\n",
       "       [  65665225,      16301,          0,          0,          0],\n",
       "       [  13197682,    1833868,          0,          0,          0],\n",
       "       [  38694302,     114107,          0,          0,          0],\n",
       "       [ 136388531,    4225640,          0,          0,          0],\n",
       "       [  13527380,      75282,          0,          0,          0],\n",
       "       [   5570478,       6463,          0,          0,          0],\n",
       "       [   4551512,      13584,          0,          0,          0],\n",
       "       [  21153331,   90489885,          0,      87964,          0]])"
      ]
     },
     "execution_count": 75,
     "metadata": {},
     "output_type": "execute_result"
    }
   ],
   "source": [
    "N = num_city*[num_conn*[0]]\n",
    "N_np = np.array(M)\n",
    "# print(N_np)\n",
    "\n",
    "i, j = 0, 0\n",
    "for m in keys:\n",
    "    j = 0\n",
    "    keys2 = list(data[m].keys())[-num_pow:]\n",
    "    for n in keys2:\n",
    "        # print(data[m][n])\n",
    "        N_np[i,j] = data[m][n]\n",
    "        j += 1\n",
    "    i += 1\n",
    "N_np"
   ]
  },
  {
   "cell_type": "code",
   "execution_count": 76,
   "id": "40ec344d-a0af-493c-bc92-a17122b87830",
   "metadata": {},
   "outputs": [
    {
     "data": {
      "image/png": "[encoded data removed]",
      "text/plain": [
       "<Figure size 432x288 with 1 Axes>"
      ]
     },
     "metadata": {},
     "output_type": "display_data"
    }
   ],
   "source": [
    "n = num_city  # Number of nodes in graph\n",
    "G = nx.Graph()\n",
    "\n",
    "data = M_np\n",
    "for i in range(num_city):\n",
    "    for j in range(num_conn):\n",
    "        # print(data[i,j])\n",
    "        # weight=round(data[i,j],2)\n",
    "        weight=data[i,j]\n",
    "        if(weight<220):\n",
    "            G.add_edge(i,j,weight=weight)\n",
    "        \n",
    "\n",
    "colors = [\"r\" for node in G.nodes()]\n",
    "pos = nx.spring_layout(G)\n",
    "\n",
    "def draw_graph(G, colors, pos):\n",
    "    default_axes = plt.axes(frameon=True)\n",
    "    nx.draw_networkx(G, node_color=colors, node_size=20, alpha=0.8, ax=default_axes, pos=pos, with_labels=False)\n",
    "\n",
    "draw_graph(G, colors, pos)        \n"
   ]
  },
  {
   "cell_type": "code",
   "execution_count": 82,
   "id": "40d1ad35-8a44-404f-a53c-e8b2f419ed84",
   "metadata": {},
   "outputs": [],
   "source": [
    "Q = num_city*[num_city*[0]]\n",
    "Q = np.array(Q)\n",
    "\n",
    "gamma = 10 / len(G.nodes)\n",
    "\n",
    "gamma = 100\n",
    "\n",
    "# Fill in Q matrix\n",
    "for u, v in G.edges:\n",
    "    Q[u,u] += -2*G.get_edge_data(u, v)[\"weight\"]\n",
    "    Q[v,v] += -2*G.get_edge_data(u, v)[\"weight\"]\n",
    "    Q[u,v] += 8*G.get_edge_data(u, v)[\"weight\"]\n",
    "\n",
    "for i in G.nodes:\n",
    "    Q[i,i] += gamma*(1-len(G.nodes))\n",
    "\n",
    "for i, j in combinations(G.nodes, 2):\n",
    "    Q[i,j] += 2*gamma"
   ]
  },
  {
   "cell_type": "code",
   "execution_count": 83,
   "id": "6fdfb5bc-d9a0-41a3-94e7-162be6153483",
   "metadata": {},
   "outputs": [],
   "source": [
    "max_cut = Maxcut(Q)\n",
    "qp = max_cut.to_quadratic_program()\n",
    "# print(qp.export_as_lp_string())"
   ]
  },
  {
   "cell_type": "code",
   "execution_count": 84,
   "id": "694aff1b-99b7-446c-911b-768ddb2434a4",
   "metadata": {},
   "outputs": [
    {
     "name": "stdout",
     "output_type": "stream",
     "text": [
      "Offset: -18892.0\n",
      "Ising Hamiltonian:\n"
     ]
    }
   ],
   "source": [
    "qubitOp, offset = qp.to_ising()\n",
    "print(\"Offset:\", offset)\n",
    "print(\"Ising Hamiltonian:\")\n",
    "# print(str(qubitOp))"
   ]
  },
  {
   "cell_type": "code",
   "execution_count": 85,
   "id": "8c030d18-d280-4d32-b665-74ab7f88ff9f",
   "metadata": {},
   "outputs": [
    {
     "name": "stdout",
     "output_type": "stream",
     "text": [
      "optimal function value: 27440.0\n",
      "optimal value: [1. 1. 1. 1. 1. 0. 0. 1. 1. 0. 0. 0. 0. 0. 0.]\n",
      "status: SUCCESS\n"
     ]
    }
   ],
   "source": [
    "# solving Quadratic Program using exact classical eigensolver\n",
    "exact = MinimumEigenOptimizer(NumPyMinimumEigensolver())\n",
    "result = exact.solve(qp)\n",
    "print(result)"
   ]
  },
  {
   "cell_type": "code",
   "execution_count": 88,
   "id": "9d98e2fe-b875-42a0-a95c-5a6fa4769e5f",
   "metadata": {},
   "outputs": [
    {
     "name": "stdout",
     "output_type": "stream",
     "text": [
      "energy: -8548.0\n",
      "max-cut objective: -27440.0\n",
      "solution: [1 1 1 1 1 0 0 1 1 0 0 0 0 0 0]\n",
      "solution objective: 27440.0\n"
     ]
    },
    {
     "data": {
      "image/png": "[encoded data removed]",
      "text/plain": [
       "<Figure size 432x288 with 1 Axes>"
      ]
     },
     "metadata": {},
     "output_type": "display_data"
    }
   ],
   "source": [
    "# Making the Hamiltonian in its full form and getting the lowest eigenvalue and eigenvector\n",
    "ee = NumPyMinimumEigensolver()\n",
    "result = ee.compute_minimum_eigenvalue(qubitOp)\n",
    "\n",
    "x = max_cut.sample_most_likely(result.eigenstate)\n",
    "print(\"energy:\", result.eigenvalue.real)\n",
    "print(\"max-cut objective:\", result.eigenvalue.real + offset)\n",
    "print(\"solution:\", x)\n",
    "print(\"solution objective:\", qp.objective.evaluate(x))\n",
    "\n",
    "colors = [\"r\" if x[i] == 0 else \"c\" for i in range(n)]\n",
    "\n",
    "def draw_graph(G, colors, pos):\n",
    "    nx.draw_networkx(G, node_color=colors, node_size=100, alpha=0.8, pos=pos)\n",
    "    \n",
    "draw_graph(G, colors, pos)"
   ]
  },
  {
   "cell_type": "code",
   "execution_count": null,
   "id": "8a407914-7e0e-4bea-96c6-dddfae347203",
   "metadata": {},
   "outputs": [],
   "source": [
    "algorithm_globals.random_seed = 123\n",
    "seed = 10598\n",
    "backend = Aer.get_backend(\"aer_simulator_statevector\")\n",
    "quantum_instance = QuantumInstance(backend, seed_simulator=seed, seed_transpiler=seed)"
   ]
  },
  {
   "cell_type": "code",
   "execution_count": null,
   "id": "e64304e4-f460-40ad-b686-1607f6778c92",
   "metadata": {},
   "outputs": [],
   "source": [
    "# construct VQE\n",
    "spsa = SPSA(maxiter=300)\n",
    "ry = TwoLocal(qubitOp.num_qubits, \"ry\", \"cz\", reps=5, entanglement=\"linear\")\n",
    "vqe = VQE(ry, optimizer=spsa, quantum_instance=quantum_instance)\n",
    "\n",
    "# run VQE\n",
    "result = vqe.compute_minimum_eigenvalue(qubitOp)\n",
    "\n",
    "# print results\n",
    "x = max_cut.sample_most_likely(result.eigenstate)\n",
    "print(\"energy:\", result.eigenvalue.real)\n",
    "print(\"time:\", result.optimizer_time)\n",
    "print(\"max-cut objective:\", result.eigenvalue.real + offset)\n",
    "print(\"solution:\", x)\n",
    "print(\"solution objective:\", qp.objective.evaluate(x))\n",
    "\n",
    "# plot results\n",
    "colors = [\"r\" if x[i] == 0 else \"c\" for i in range(n)]\n",
    "draw_graph(G, colors, pos)"
   ]
  },
  {
   "cell_type": "code",
   "execution_count": null,
   "id": "a9fc3488-2c4f-4247-a41d-f01f480c1390",
   "metadata": {},
   "outputs": [],
   "source": [
    "# create minimum eigen optimizer based on VQE\n",
    "vqe_optimizer = MinimumEigenOptimizer(vqe)\n",
    "\n",
    "# solve quadratic program\n",
    "result = vqe_optimizer.solve(qp)\n",
    "print(result)\n",
    "\n",
    "colors = [\"r\" if result.x[i] == 0 else \"c\" for i in range(n)]\n",
    "draw_graph(G, colors, pos)"
   ]
  }
 ],
 "metadata": {
  "kernelspec": {
   "display_name": "Python 3",
   "language": "python",
   "name": "python3"
  },
  "language_info": {
   "codemirror_mode": {
    "name": "ipython",
    "version": 3
   },
   "file_extension": ".py",
   "mimetype": "text/x-python",
   "name": "python",
   "nbconvert_exporter": "python",
   "pygments_lexer": "ipython3",
   "version": "3.8.8"
  },
  "varInspector": {
   "cols": {
    "lenName": 16,
    "lenType": 16,
    "lenVar": 40
   },
   "kernels_config": {
    "python": {
     "delete_cmd_postfix": "",
     "delete_cmd_prefix": "del ",
     "library": "var_list.py",
     "varRefreshCmd": "print(var_dic_list())"
    },
    "r": {
     "delete_cmd_postfix": ") ",
     "delete_cmd_prefix": "rm(",
     "library": "var_list.r",
     "varRefreshCmd": "cat(var_dic_list()) "
    }
   },
   "types_to_exclude": [
    "module",
    "function",
    "builtin_function_or_method",
    "instance",
    "_Feature"
   ],
   "window_display": false
  },
  "widgets": {
   "application/vnd.jupyter.widget-state+json": {
    "state": {},
    "version_major": 2,
    "version_minor": 0
   }
  }
 },
 "nbformat": 4,
 "nbformat_minor": 5
}
